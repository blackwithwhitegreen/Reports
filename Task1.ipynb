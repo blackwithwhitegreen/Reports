{
  "nbformat": 4,
  "nbformat_minor": 0,
  "metadata": {
    "colab": {
      "provenance": [],
      "mount_file_id": "12p5S8030PbTubOAw_ueia1Buks544QXK",
      "authorship_tag": "ABX9TyOoJ6yz3rmo1CW3uqCxNd5m",
      "include_colab_link": true
    },
    "kernelspec": {
      "name": "python3",
      "display_name": "Python 3"
    },
    "language_info": {
      "name": "python"
    }
  },
  "cells": [
    {
      "cell_type": "markdown",
      "metadata": {
        "id": "view-in-github",
        "colab_type": "text"
      },
      "source": [
        "<a href=\"https://colab.research.google.com/github/blackwithwhitegreen/Reports/blob/main/Task1.ipynb\" target=\"_parent\"><img src=\"https://colab.research.google.com/assets/colab-badge.svg\" alt=\"Open In Colab\"/></a>"
      ]
    },
    {
      "cell_type": "code",
      "source": [
        "!pip install gtts"
      ],
      "metadata": {
        "colab": {
          "base_uri": "https://localhost:8080/"
        },
        "id": "UNAmvG7VEITX",
        "outputId": "525e7495-a21c-481a-f394-357f07ee89b5"
      },
      "execution_count": 2,
      "outputs": [
        {
          "output_type": "stream",
          "name": "stdout",
          "text": [
            "Collecting gtts\n",
            "  Downloading gTTS-2.5.4-py3-none-any.whl.metadata (4.1 kB)\n",
            "Requirement already satisfied: requests<3,>=2.27 in /usr/local/lib/python3.11/dist-packages (from gtts) (2.32.3)\n",
            "Requirement already satisfied: click<8.2,>=7.1 in /usr/local/lib/python3.11/dist-packages (from gtts) (8.1.8)\n",
            "Requirement already satisfied: charset-normalizer<4,>=2 in /usr/local/lib/python3.11/dist-packages (from requests<3,>=2.27->gtts) (3.4.1)\n",
            "Requirement already satisfied: idna<4,>=2.5 in /usr/local/lib/python3.11/dist-packages (from requests<3,>=2.27->gtts) (3.10)\n",
            "Requirement already satisfied: urllib3<3,>=1.21.1 in /usr/local/lib/python3.11/dist-packages (from requests<3,>=2.27->gtts) (2.3.0)\n",
            "Requirement already satisfied: certifi>=2017.4.17 in /usr/local/lib/python3.11/dist-packages (from requests<3,>=2.27->gtts) (2025.1.31)\n",
            "Downloading gTTS-2.5.4-py3-none-any.whl (29 kB)\n",
            "Installing collected packages: gtts\n",
            "Successfully installed gtts-2.5.4\n"
          ]
        }
      ]
    },
    {
      "cell_type": "code",
      "source": [
        "import warnings\n",
        "warnings.filterwarnings('ignore')\n",
        "import openai\n",
        "import requests\n",
        "from gtts import gTTS\n",
        "from moviepy.editor import *\n",
        "import os\n"
      ],
      "metadata": {
        "id": "mCySANtQ5ARS"
      },
      "execution_count": 3,
      "outputs": []
    },
    {
      "cell_type": "code",
      "source": [
        "# Step 1: Get a trending headline from News API (Free GNews)\n",
        "GNEWS_API_KEY = '7210d668f83315cfc3c87291bfa2271c'  # Get one from https://gnews.io\n",
        "response = requests.get(f\"https://gnews.io/api/v4/top-headlines?lang=en&max=1&token={GNEWS_API_KEY}\").json()\n",
        "\n",
        "headline = response['articles'][0]['title']\n",
        "description = response['articles'][0]['description'] or ''\n",
        "content = f\"{headline}. {description}\"\n",
        "\n",
        "print(\"Script:\", content)\n"
      ],
      "metadata": {
        "colab": {
          "base_uri": "https://localhost:8080/"
        },
        "id": "E6rC73HR4xxO",
        "outputId": "f746f274-cc7e-4daf-e24d-055de1c3068a"
      },
      "execution_count": 4,
      "outputs": [
        {
          "output_type": "stream",
          "name": "stdout",
          "text": [
            "Script: GE2025: PPP says candidate with prior conviction ‘remorseful and has taken full responsibility for actions’. \"The Party believes strongly in rehabilitation and second chances,\" said the People's Power Party in a statement about their candidate Samuel Lee.\n"
          ]
        }
      ]
    },
    {
      "cell_type": "code",
      "source": [
        "# Step 2: Generate speech from script\n",
        "speech = gTTS(text=content, lang='en')\n",
        "speech.save(\"audio.mp3\")"
      ],
      "metadata": {
        "id": "MT0p2ik96USu"
      },
      "execution_count": 5,
      "outputs": []
    },
    {
      "cell_type": "code",
      "source": [
        "# Step 3: Download an image based on the topic\n",
        "img_url = response['articles'][0]['image']\n",
        "img_data = requests.get(img_url).content\n",
        "with open(\"image.jpg\", 'wb') as f:\n",
        "    f.write(img_data)"
      ],
      "metadata": {
        "id": "1iXb0xUsESWY"
      },
      "execution_count": 6,
      "outputs": []
    },
    {
      "cell_type": "code",
      "source": [
        "# Step 4: Create video with MoviePy\n",
        "image_clip = ImageClip(\"image.jpg\").set_duration(10).resize(width=720)\n",
        "audio_clip = AudioFileClip(\"audio.mp3\")\n",
        "image_clip = image_clip.set_audio(audio_clip)\n",
        "\n",
        "final_video = image_clip.set_duration(audio_clip.duration)\n",
        "final_video.write_videofile(\"news_video.mp4\", fps=24)\n",
        "\n",
        "print(\"Video created: news_video.mp4\")"
      ],
      "metadata": {
        "colab": {
          "base_uri": "https://localhost:8080/"
        },
        "id": "yJgyvX-FEVpa",
        "outputId": "630e4e67-6815-4832-ff00-10e3bebe8083"
      },
      "execution_count": 7,
      "outputs": [
        {
          "output_type": "stream",
          "name": "stdout",
          "text": [
            "Moviepy - Building video news_video.mp4.\n",
            "MoviePy - Writing audio in news_videoTEMP_MPY_wvf_snd.mp3\n"
          ]
        },
        {
          "output_type": "stream",
          "name": "stderr",
          "text": []
        },
        {
          "output_type": "stream",
          "name": "stdout",
          "text": [
            "MoviePy - Done.\n",
            "Moviepy - Writing video news_video.mp4\n",
            "\n"
          ]
        },
        {
          "output_type": "stream",
          "name": "stderr",
          "text": []
        },
        {
          "output_type": "stream",
          "name": "stdout",
          "text": [
            "Moviepy - Done !\n",
            "Moviepy - video ready news_video.mp4\n",
            "Video created: news_video.mp4\n"
          ]
        }
      ]
    },
    {
      "cell_type": "code",
      "source": [],
      "metadata": {
        "id": "ke9pOXsmEW2s"
      },
      "execution_count": null,
      "outputs": []
    }
  ]
}